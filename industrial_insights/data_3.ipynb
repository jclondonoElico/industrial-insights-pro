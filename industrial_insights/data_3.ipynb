{
 "cells": [
  {
   "cell_type": "code",
   "execution_count": 1,
   "metadata": {},
   "outputs": [],
   "source": [
    "class Settings1:\n",
    "    def __init__(self, **kwargs):\n",
    "        self.settings = {\n",
    "            'setting_1': 'default_value_1',\n",
    "            'setting_2': 'default_value_2',\n",
    "            'setting_3': 'default_value_3',\n",
    "            'setting_4': 'default_value_4',\n",
    "            'setting_5': 'default_value_5',\n",
    "        }\n",
    "        self.update_settings(**kwargs)\n",
    "\n",
    "    def update_settings(self, **kwargs):\n",
    "        for key, value in kwargs.items():\n",
    "            if key in self.settings:\n",
    "                self.settings[key] = value\n",
    "            else:\n",
    "                print(f'Warning: Setting \"{key}\" not found.')\n",
    "\n",
    "    def show_settings(self):\n",
    "        for key, value in self.settings.items():\n",
    "            print(f'{key}: {value}')"
   ]
  },
  {
   "cell_type": "code",
   "execution_count": 2,
   "metadata": {},
   "outputs": [],
   "source": [
    "settings = Settings1(setting_1='custom_value_1', setting_3='custom_value_3')"
   ]
  },
  {
   "cell_type": "code",
   "execution_count": 3,
   "metadata": {},
   "outputs": [
    {
     "name": "stdout",
     "output_type": "stream",
     "text": [
      "Initial settings:\n",
      "setting_1: custom_value_1\n",
      "setting_2: default_value_2\n",
      "setting_3: custom_value_3\n",
      "setting_4: default_value_4\n",
      "setting_5: default_value_5\n"
     ]
    }
   ],
   "source": [
    "print(\"Initial settings:\")\n",
    "settings.show_settings()"
   ]
  },
  {
   "cell_type": "code",
   "execution_count": 4,
   "metadata": {},
   "outputs": [],
   "source": [
    "settings.update_settings(setting_2='updated_value_2', setting_4='updated_value_4')"
   ]
  },
  {
   "cell_type": "code",
   "execution_count": 5,
   "metadata": {},
   "outputs": [
    {
     "name": "stdout",
     "output_type": "stream",
     "text": [
      "\n",
      "Updated settings:\n",
      "setting_1: custom_value_1\n",
      "setting_2: updated_value_2\n",
      "setting_3: custom_value_3\n",
      "setting_4: updated_value_4\n",
      "setting_5: default_value_5\n"
     ]
    }
   ],
   "source": [
    "print(\"\\nUpdated settings:\")\n",
    "settings.show_settings()"
   ]
  }
 ],
 "metadata": {
  "kernelspec": {
   "display_name": ".venv",
   "language": "python",
   "name": "python3"
  },
  "language_info": {
   "codemirror_mode": {
    "name": "ipython",
    "version": 3
   },
   "file_extension": ".py",
   "mimetype": "text/x-python",
   "name": "python",
   "nbconvert_exporter": "python",
   "pygments_lexer": "ipython3",
   "version": "3.10.12"
  }
 },
 "nbformat": 4,
 "nbformat_minor": 2
}
